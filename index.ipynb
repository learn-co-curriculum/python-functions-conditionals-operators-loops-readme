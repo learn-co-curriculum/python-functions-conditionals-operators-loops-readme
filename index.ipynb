{
 "cells": [
  {
   "cell_type": "markdown",
   "metadata": {},
   "source": [
    "# Conditionals, Loops, Operators, Functions: Bringing It All Together\n",
    "\n",
    "We've learned about a lot of statements we have available to us in Python to write more dynamic and concise code. Conditionals let us create *conditions* that inform our code how to operate. Loops help us to dynamically iterate through and operate on a collection (i.e. a list or a dictionary). And Operators, generally, allow us to compare elements to each other, assert the sameness of elements, or return elements based on their truthiness or falsiness. Functions, essentially, help us to create an object that packages up one or more operations and allows us to execute those operations from anywhere else in scope in our code. However, as we can tell by the title of this lesson, we will now be focusing on using all of these smaller parts together. As we get further into our lives as programmers, we will find ourselves facing more and more complex problems and to solve those we will need these types of tools to create solutions while keeping our code concise and efficient. "
   ]
  },
  {
   "cell_type": "markdown",
   "metadata": {},
   "source": [
    "## Objectives:\n",
    "* Understand how and when to use functions, conditionals, loops, and operators in tandem"
   ]
  },
  {
   "cell_type": "markdown",
   "metadata": {},
   "source": [
    "## Bringing It All Together"
   ]
  },
  {
   "cell_type": "markdown",
   "metadata": {},
   "source": [
    "The best way to understand how and when to use all these parts in a whole is to use an example. So, we are going to use data from a basketball game with 2 teams; the away team and the home team. We'll assing this data to a variable called `game_data` and use it in the examples below where we will create functions that operate on this data to retrieve information about the teams and players.\n",
    "\n",
    "This data structure is a bit complicated, so, make sure to look it over and get familiar with it."
   ]
  },
  {
   "cell_type": "code",
   "execution_count": null,
   "metadata": {},
   "outputs": [],
   "source": [
    "game_data = { \n",
    "\"home\": {\n",
    "    \"team_name\": \"Brooklyn Nets\",\n",
    "    \"colors\": [\"Black\", \"White\"],\n",
    "    \"players\": {\n",
    "      \"Alan Anderson\": {\n",
    "        \"number\": 0,\n",
    "        \"shoe\": 16,\n",
    "        \"points\": 22,\n",
    "        \"rebounds\": 12,\n",
    "        \"assists\": 12,\n",
    "        \"steals\": 3,\n",
    "        \"blocks\": 1,\n",
    "        \"slam_dunks\": 1\n",
    "      },\n",
    "      \"Reggie Evans\": {\n",
    "        \"number\": 30,\n",
    "        \"shoe\": 14,\n",
    "        \"points\": 12,\n",
    "        \"rebounds\": 12,\n",
    "        \"assists\": 12,\n",
    "        \"steals\": 12,\n",
    "        \"blocks\": 12,\n",
    "        \"slam_dunks\": 7\n",
    "      },\n",
    "      \"Brook Lopez\": {\n",
    "        \"number\": 11,\n",
    "        \"shoe\": 17,\n",
    "        \"points\": 17,\n",
    "        \"rebounds\": 19,\n",
    "        \"assists\": 10,\n",
    "        \"steals\": 3,\n",
    "        \"blocks\": 1,\n",
    "        \"slam_dunks\": 15\n",
    "      },\n",
    "      \"Mason Plumlee\": {\n",
    "        \"number\": 1,\n",
    "        \"shoe\": 19,\n",
    "        \"points\": 26,\n",
    "        \"rebounds\": 12,\n",
    "        \"assists\": 6,\n",
    "        \"steals\": 3,\n",
    "        \"blocks\": 8,\n",
    "        \"slam_dunks\": 5\n",
    "      },\n",
    "      \"Jason Terry\": {\n",
    "        \"number\": 31,\n",
    "        \"shoe\": 15,\n",
    "        \"points\": 19,\n",
    "        \"rebounds\": 2,\n",
    "        \"assists\": 2,\n",
    "        \"steals\": 4,\n",
    "        \"blocks\": 11,\n",
    "        \"slam_dunks\": 1\n",
    "      }\n",
    "    }\n",
    "  },\n",
    "  \"away\": {\n",
    "    \"team_name\": \"Charlotte Hornets\",\n",
    "    \"colors\": [\"Turquoise\", \"Purple\"],\n",
    "    \"players\": {\n",
    "      \"Jeff Adrien\": {\n",
    "        \"number\": 4,\n",
    "        \"shoe\": 18,\n",
    "        \"points\": 10,\n",
    "        \"rebounds\": 1,\n",
    "        \"assists\": 1,\n",
    "        \"steals\": 2,\n",
    "        \"blocks\": 7,\n",
    "        \"slam_dunks\": 2\n",
    "      },\n",
    "      \"Bismak Biyombo\": {\n",
    "        \"number\": 0,\n",
    "        \"shoe\": 16,\n",
    "        \"points\": 12,\n",
    "        \"rebounds\": 4,\n",
    "        \"assists\": 7,\n",
    "        \"steals\": 7,\n",
    "        \"blocks\": 15,\n",
    "        \"slam_dunks\": 10\n",
    "      },\n",
    "      \"DeSagna Diop\": {\n",
    "        \"number\": 2,\n",
    "        \"shoe\": 14,\n",
    "        \"points\": 24,\n",
    "        \"rebounds\": 12,\n",
    "        \"assists\": 12,\n",
    "        \"steals\": 4,\n",
    "        \"blocks\": 5,\n",
    "        \"slam_dunks\": 5\n",
    "      },\n",
    "      \"Ben Gordon\": {\n",
    "        \"number\": 8,\n",
    "        \"shoe\": 15,\n",
    "        \"points\": 33,\n",
    "        \"rebounds\": 3,\n",
    "        \"assists\": 2,\n",
    "        \"steals\": 1,\n",
    "        \"blocks\": 1,\n",
    "        \"slam_dunks\": 0\n",
    "      },\n",
    "      \"Brendan Haywood\": {\n",
    "        \"number\": 33,\n",
    "        \"shoe\": 15,\n",
    "        \"points\": 6,\n",
    "        \"rebounds\": 12,\n",
    "        \"assists\": 12,\n",
    "        \"steals\": 22,\n",
    "        \"blocks\": 5,\n",
    "        \"slam_dunks\": 12\n",
    "      }\n",
    "    }\n",
    "  }\n",
    "}\n"
   ]
  },
  {
   "cell_type": "markdown",
   "metadata": {},
   "source": [
    "There's a lot of information here and it's all contained in a pretty organized, but otherwise nested structure. So, let's start out with a straightforward example of getting a list of the colors for both teams.\n",
    "\n",
    "We want to return a **single** list with the strings for each color for both the home and away teams. We know that we want something from **both** teams, so, we will need to iterate over the `game_data` object, which is a dictionary. So, we will iterate using its **keys** and **values**, but we know that the `'colors'` attribute points to a *list*, so, we will need to iterate over that as well to access each color individually and append it to our *new* list of colors, which we will then return at the end of the function. Let's take a look at this implementation."
   ]
  },
  {
   "cell_type": "code",
   "execution_count": null,
   "metadata": {},
   "outputs": [],
   "source": [
    "def get_colors(game_dict):\n",
    "    # we create a new list to hold the strings for each color for both the home and away teams\n",
    "    all_colors = []\n",
    "    # then we iterate over the dictionary to access the data for each team\n",
    "    for team, team_data in game_dict.items():\n",
    "        # once we have access to the data for a team, we then iterate over its list of colors\n",
    "        for color in team_data['colors']:\n",
    "            # then we append each color to our new list\n",
    "            all_colors.append(color)\n",
    "    # finally, we return our new list which should contain every color for both teams\n",
    "    return all_colors"
   ]
  },
  {
   "cell_type": "code",
   "execution_count": null,
   "metadata": {},
   "outputs": [],
   "source": [
    "get_colors(game_data)"
   ]
  },
  {
   "cell_type": "markdown",
   "metadata": {},
   "source": [
    "So, to recap, in the above example we saw that we would have to use a **nested** loop because we were dealing with a **nested** data structure (e.g. a dictionary, which points to another dictionary, which then points to a list).\n",
    "\n",
    "In the next cell, we will define a method that retrieves the names of all players from whichever `'team_name'` is passed in. So, if we want to see the players on the charlotte hornets, we would give, as the second argument, `\"charlotte hornets\"`. However, if there is no second argument given, we should return a list with **all** the players."
   ]
  },
  {
   "cell_type": "code",
   "execution_count": null,
   "metadata": {},
   "outputs": [],
   "source": [
    "def get_players(game_dict, team_name=None):\n",
    "    players = []\n",
    "    if team_name is not None:\n",
    "        for team, team_data in game_dict.items():\n",
    "            if team_name.lower() == team_data['team_name'].lower():\n",
    "                for player in team_data['players']:\n",
    "                    players.append(player)\n",
    "    else:\n",
    "        for team, team_data in game_dict.items():\n",
    "            for player in team_data['players']:\n",
    "                players.append(player)\n",
    "    return players"
   ]
  },
  {
   "cell_type": "code",
   "execution_count": null,
   "metadata": {},
   "outputs": [],
   "source": [
    "get_players(game_data)"
   ]
  },
  {
   "cell_type": "code",
   "execution_count": null,
   "metadata": {},
   "outputs": [],
   "source": [
    "get_players(game_data, 'charlotte hornets')"
   ]
  },
  {
   "cell_type": "markdown",
   "metadata": {},
   "source": [
    "In this example, again we were dealing with a nested data structure, so, we had to have a nested loop. We *also* introduced a **condition** to our problem. We wanted to return one list **if** we were given a team name and another list **if** we were **not** given a team name. And to make sure we would get the correct players in the case that there is a team name, we had to check that the team name that was passed in as the second argument was **equal to** the `'team_name'` value of the given dictionary."
   ]
  },
  {
   "cell_type": "markdown",
   "metadata": {},
   "source": [
    "## Summary"
   ]
  },
  {
   "cell_type": "markdown",
   "metadata": {},
   "source": [
    "With the above examples, we can see that deciding when to use functions, condtionals, operators, and loops all depends on the problem at hand. We can use context clues to give us a good idea of the structure our solution will take. If we have a condtion that would change the output of our return value, then we will need to use a conditional statement. If we have a nested data structure that we need to iterate over, we will need to use a nested loop. Likewise, if we need to compare two values, we'll need to use a some type of operator (i.e. comparison, logical, identity, etc.). Knowing how and when to use these tools will greatly reduce the amount of code we write as well as greatly increase the efficiency of the code we write."
   ]
  }
 ],
 "metadata": {
  "kernelspec": {
   "display_name": "Python 3",
   "language": "python",
   "name": "python3"
  },
  "language_info": {
   "codemirror_mode": {
    "name": "ipython",
    "version": 3
   },
   "file_extension": ".py",
   "mimetype": "text/x-python",
   "name": "python",
   "nbconvert_exporter": "python",
   "pygments_lexer": "ipython3",
   "version": "3.6.5"
  }
 },
 "nbformat": 4,
 "nbformat_minor": 2
}
